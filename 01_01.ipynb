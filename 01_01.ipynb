{
 "cells": [
  {
   "cell_type": "code",
   "execution_count": 8,
   "metadata": {},
   "outputs": [],
   "source": [
    "import json"
   ]
  },
  {
   "cell_type": "code",
   "execution_count": 10,
   "metadata": {},
   "outputs": [],
   "source": [
    "# load json file from /data folder\n",
    "with open('data/monthlySalesbyCategoryMultiple.json') as json_data:\n",
    "    d = json.load(json_data)  #d is dictonary"
   ]
  },
  {
   "cell_type": "code",
   "execution_count": 11,
   "metadata": {},
   "outputs": [
    {
     "name": "stdout",
     "output_type": "stream",
     "text": [
      "{'contents': [{'category': 'Furniture',\n",
      "               'monthlySales': [{'month': 20130101, 'sales': 38},\n",
      "                                {'month': 20130201, 'sales': 35},\n",
      "                                {'month': 20130301, 'sales': 41},\n",
      "                                {'month': 20130401, 'sales': 55},\n",
      "                                {'month': 20130501, 'sales': 58},\n",
      "                                {'month': 20130601, 'sales': 66},\n",
      "                                {'month': 20130701, 'sales': 74},\n",
      "                                {'month': 20130801, 'sales': 78},\n",
      "                                {'month': 20130901, 'sales': 38},\n",
      "                                {'month': 20131001, 'sales': 30},\n",
      "                                {'month': 20131101, 'sales': 26},\n",
      "                                {'month': 20131201, 'sales': 29}],\n",
      "               'region': 'West'},\n",
      "              {'category': 'Technology',\n",
      "               'monthlySales': [{'month': 20130101, 'sales': 54},\n",
      "                                {'month': 20130201, 'sales': 66},\n",
      "                                {'month': 20130301, 'sales': 77},\n",
      "                                {'month': 20130401, 'sales': 70},\n",
      "                                {'month': 20130501, 'sales': 60},\n",
      "                                {'month': 20130601, 'sales': 63},\n",
      "                                {'month': 20130701, 'sales': 55},\n",
      "                                {'month': 20130801, 'sales': 47},\n",
      "                                {'month': 20130901, 'sales': 55},\n",
      "                                {'month': 20131001, 'sales': 30},\n",
      "                                {'month': 20131101, 'sales': 22},\n",
      "                                {'month': 20131201, 'sales': 77}],\n",
      "               'region': 'West'}]}\n"
     ]
    }
   ],
   "source": [
    "# see what the dictionary looks like\n",
    "from pprint import pprint as pp  \n",
    "pp(d)"
   ]
  },
  {
   "cell_type": "code",
   "execution_count": 12,
   "metadata": {},
   "outputs": [
    {
     "name": "stdout",
     "output_type": "stream",
     "text": [
      "dict_keys(['contents'])\n"
     ]
    }
   ],
   "source": [
    "# print keys at the top level\n",
    "print(d.keys())"
   ]
  },
  {
   "cell_type": "code",
   "execution_count": 13,
   "metadata": {},
   "outputs": [
    {
     "name": "stdout",
     "output_type": "stream",
     "text": [
      "dict_keys(['category', 'region', 'monthlySales'])\n",
      "dict_keys(['category', 'region', 'monthlySales'])\n"
     ]
    }
   ],
   "source": [
    "# print keys at the second level\n",
    "for a in d['contents']:\n",
    "    print(a.keys())"
   ]
  },
  {
   "cell_type": "code",
   "execution_count": 14,
   "metadata": {},
   "outputs": [
    {
     "name": "stdout",
     "output_type": "stream",
     "text": [
      "dict_keys(['month', 'sales'])\n",
      "dict_keys(['month', 'sales'])\n",
      "dict_keys(['month', 'sales'])\n",
      "dict_keys(['month', 'sales'])\n",
      "dict_keys(['month', 'sales'])\n",
      "dict_keys(['month', 'sales'])\n",
      "dict_keys(['month', 'sales'])\n",
      "dict_keys(['month', 'sales'])\n",
      "dict_keys(['month', 'sales'])\n",
      "dict_keys(['month', 'sales'])\n",
      "dict_keys(['month', 'sales'])\n",
      "dict_keys(['month', 'sales'])\n",
      "dict_keys(['month', 'sales'])\n",
      "dict_keys(['month', 'sales'])\n",
      "dict_keys(['month', 'sales'])\n",
      "dict_keys(['month', 'sales'])\n",
      "dict_keys(['month', 'sales'])\n",
      "dict_keys(['month', 'sales'])\n",
      "dict_keys(['month', 'sales'])\n",
      "dict_keys(['month', 'sales'])\n",
      "dict_keys(['month', 'sales'])\n",
      "dict_keys(['month', 'sales'])\n",
      "dict_keys(['month', 'sales'])\n",
      "dict_keys(['month', 'sales'])\n"
     ]
    }
   ],
   "source": [
    "# print keys at the third level\n",
    "for a in d['contents']:\n",
    "    for b in a['monthlySales']:\n",
    "        print(b.keys())"
   ]
  },
  {
   "cell_type": "code",
   "execution_count": 19,
   "metadata": {
    "scrolled": true
   },
   "outputs": [
    {
     "name": "stdout",
     "output_type": "stream",
     "text": [
      "[{'category': 'Furniture',\n",
      "  'monthlySales': [{'month': 20130101, 'sales': 38},\n",
      "                   {'month': 20130201, 'sales': 35},\n",
      "                   {'month': 20130301, 'sales': 41},\n",
      "                   {'month': 20130401, 'sales': 55},\n",
      "                   {'month': 20130501, 'sales': 58},\n",
      "                   {'month': 20130601, 'sales': 66},\n",
      "                   {'month': 20130701, 'sales': 74},\n",
      "                   {'month': 20130801, 'sales': 78},\n",
      "                   {'month': 20130901, 'sales': 38},\n",
      "                   {'month': 20131001, 'sales': 30},\n",
      "                   {'month': 20131101, 'sales': 26},\n",
      "                   {'month': 20131201, 'sales': 29}],\n",
      "  'region': 'West'},\n",
      " {'category': 'Technology',\n",
      "  'monthlySales': [{'month': 20130101, 'sales': 54},\n",
      "                   {'month': 20130201, 'sales': 66},\n",
      "                   {'month': 20130301, 'sales': 77},\n",
      "                   {'month': 20130401, 'sales': 70},\n",
      "                   {'month': 20130501, 'sales': 60},\n",
      "                   {'month': 20130601, 'sales': 63},\n",
      "                   {'month': 20130701, 'sales': 55},\n",
      "                   {'month': 20130801, 'sales': 47},\n",
      "                   {'month': 20130901, 'sales': 55},\n",
      "                   {'month': 20131001, 'sales': 30},\n",
      "                   {'month': 20131101, 'sales': 22},\n",
      "                   {'month': 20131201, 'sales': 77}],\n",
      "  'region': 'West'}]\n",
      "contents :  None\n"
     ]
    }
   ],
   "source": [
    "# print the keys and values at the first level\n",
    "for key, value in d.items():\n",
    "    print(key + \" : \", pp(value))\n",
    "    "
   ]
  },
  {
   "cell_type": "code",
   "execution_count": 23,
   "metadata": {},
   "outputs": [
    {
     "name": "stdout",
     "output_type": "stream",
     "text": [
      "'Furniture'\n",
      "category:  None\n",
      "'West'\n",
      "region:  None\n",
      "[{'month': 20130101, 'sales': 38},\n",
      " {'month': 20130201, 'sales': 35},\n",
      " {'month': 20130301, 'sales': 41},\n",
      " {'month': 20130401, 'sales': 55},\n",
      " {'month': 20130501, 'sales': 58},\n",
      " {'month': 20130601, 'sales': 66},\n",
      " {'month': 20130701, 'sales': 74},\n",
      " {'month': 20130801, 'sales': 78},\n",
      " {'month': 20130901, 'sales': 38},\n",
      " {'month': 20131001, 'sales': 30},\n",
      " {'month': 20131101, 'sales': 26},\n",
      " {'month': 20131201, 'sales': 29}]\n",
      "monthlySales:  None\n",
      "'Technology'\n",
      "category:  None\n",
      "'West'\n",
      "region:  None\n",
      "[{'month': 20130101, 'sales': 54},\n",
      " {'month': 20130201, 'sales': 66},\n",
      " {'month': 20130301, 'sales': 77},\n",
      " {'month': 20130401, 'sales': 70},\n",
      " {'month': 20130501, 'sales': 60},\n",
      " {'month': 20130601, 'sales': 63},\n",
      " {'month': 20130701, 'sales': 55},\n",
      " {'month': 20130801, 'sales': 47},\n",
      " {'month': 20130901, 'sales': 55},\n",
      " {'month': 20131001, 'sales': 30},\n",
      " {'month': 20131101, 'sales': 22},\n",
      " {'month': 20131201, 'sales': 77}]\n",
      "monthlySales:  None\n"
     ]
    }
   ],
   "source": [
    "# print the keys and values at the second level\n",
    "for a in d['contents']:\n",
    "    for key, value in a.items():\n",
    "        print( key + ': ', pp(value)    )"
   ]
  },
  {
   "cell_type": "code",
   "execution_count": 24,
   "metadata": {},
   "outputs": [
    {
     "name": "stdout",
     "output_type": "stream",
     "text": [
      "month:  20130101\n",
      "sales:  38\n",
      "month:  20130201\n",
      "sales:  35\n",
      "month:  20130301\n",
      "sales:  41\n",
      "month:  20130401\n",
      "sales:  55\n",
      "month:  20130501\n",
      "sales:  58\n",
      "month:  20130601\n",
      "sales:  66\n",
      "month:  20130701\n",
      "sales:  74\n",
      "month:  20130801\n",
      "sales:  78\n",
      "month:  20130901\n",
      "sales:  38\n",
      "month:  20131001\n",
      "sales:  30\n",
      "month:  20131101\n",
      "sales:  26\n",
      "month:  20131201\n",
      "sales:  29\n",
      "month:  20130101\n",
      "sales:  54\n",
      "month:  20130201\n",
      "sales:  66\n",
      "month:  20130301\n",
      "sales:  77\n",
      "month:  20130401\n",
      "sales:  70\n",
      "month:  20130501\n",
      "sales:  60\n",
      "month:  20130601\n",
      "sales:  63\n",
      "month:  20130701\n",
      "sales:  55\n",
      "month:  20130801\n",
      "sales:  47\n",
      "month:  20130901\n",
      "sales:  55\n",
      "month:  20131001\n",
      "sales:  30\n",
      "month:  20131101\n",
      "sales:  22\n",
      "month:  20131201\n",
      "sales:  77\n"
     ]
    }
   ],
   "source": [
    "# print the keys and values at the third level\n",
    "for a in d['contents']:\n",
    "    for b in a['monthlySales']:\n",
    "        for key, value in b.items():\n",
    "            print (key + \": \", value)"
   ]
  },
  {
   "cell_type": "code",
   "execution_count": null,
   "metadata": {
    "collapsed": true
   },
   "outputs": [],
   "source": []
  }
 ],
 "metadata": {
  "kernelspec": {
   "display_name": "Python 3 (ipykernel)",
   "language": "python",
   "name": "python3"
  },
  "language_info": {
   "codemirror_mode": {
    "name": "ipython",
    "version": 3
   },
   "file_extension": ".py",
   "mimetype": "text/x-python",
   "name": "python",
   "nbconvert_exporter": "python",
   "pygments_lexer": "ipython3",
   "version": "3.11.5"
  }
 },
 "nbformat": 4,
 "nbformat_minor": 2
}
